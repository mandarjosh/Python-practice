{
 "cells": [
  {
   "cell_type": "markdown",
   "id": "2b405f48",
   "metadata": {},
   "source": [
    "- It is the conversion of the datatype from one to other"
   ]
  },
  {
   "cell_type": "markdown",
   "id": "72a14c39",
   "metadata": {},
   "source": [
    "# int()"
   ]
  },
  {
   "cell_type": "code",
   "execution_count": 2,
   "id": "a28be9b7",
   "metadata": {},
   "outputs": [],
   "source": [
    "# It typecasts to int.\n",
    "# It returns an int value."
   ]
  },
  {
   "cell_type": "code",
   "execution_count": 4,
   "id": "b084e228",
   "metadata": {},
   "outputs": [
    {
     "name": "stdout",
     "output_type": "stream",
     "text": [
      "2.5 <class 'float'>\n",
      "2 <class 'int'>\n"
     ]
    }
   ],
   "source": [
    "a = 2.5 \n",
    "print(a, type(a))\n",
    "\n",
    "b = int(a)\n",
    "print(b,type(b))"
   ]
  },
  {
   "cell_type": "code",
   "execution_count": 8,
   "id": "7b2b7fb6",
   "metadata": {},
   "outputs": [
    {
     "name": "stdout",
     "output_type": "stream",
     "text": [
      "10 <class 'str'>\n",
      "10 <class 'int'>\n"
     ]
    }
   ],
   "source": [
    "a = '10'\n",
    "print(a, type(a))\n",
    "\n",
    "b = int(a)\n",
    "print(b,type(b))"
   ]
  },
  {
   "cell_type": "code",
   "execution_count": 6,
   "id": "74c58c3e",
   "metadata": {},
   "outputs": [
    {
     "name": "stdout",
     "output_type": "stream",
     "text": [
      "True <class 'bool'>\n",
      "1 <class 'int'>\n"
     ]
    }
   ],
   "source": [
    "a = True\n",
    "print(a, type(a))\n",
    "\n",
    "b = int(a)\n",
    "print(b,type(b))"
   ]
  },
  {
   "cell_type": "markdown",
   "id": "428582ca",
   "metadata": {},
   "source": [
    "# Float()"
   ]
  },
  {
   "cell_type": "code",
   "execution_count": 9,
   "id": "7497fcf2",
   "metadata": {},
   "outputs": [],
   "source": [
    "# It typecats to float.\n",
    "# It returns a float value."
   ]
  },
  {
   "cell_type": "code",
   "execution_count": 11,
   "id": "a88ef2a8",
   "metadata": {},
   "outputs": [
    {
     "name": "stdout",
     "output_type": "stream",
     "text": [
      "5 <class 'int'>\n",
      "5.0 <class 'float'>\n"
     ]
    }
   ],
   "source": [
    "a= 5\n",
    "print(a,type(a))\n",
    "\n",
    "b=float(a)\n",
    "print(b,type(b))"
   ]
  },
  {
   "cell_type": "code",
   "execution_count": 12,
   "id": "5a43fe13",
   "metadata": {},
   "outputs": [
    {
     "name": "stdout",
     "output_type": "stream",
     "text": [
      "-10.50 <class 'str'>\n",
      "-10.5 <class 'float'>\n"
     ]
    }
   ],
   "source": [
    "a='-10.50'\n",
    "print(a,type(a))\n",
    "\n",
    "b=float(a)\n",
    "print(b,type(b))"
   ]
  },
  {
   "cell_type": "markdown",
   "id": "e5295332",
   "metadata": {},
   "source": [
    "# Complex()"
   ]
  },
  {
   "cell_type": "markdown",
   "id": "5f7f884e",
   "metadata": {},
   "source": [
    "- It typecasts to complex value.\n",
    "- It returns a complex value."
   ]
  },
  {
   "cell_type": "code",
   "execution_count": 13,
   "id": "fed89d2d",
   "metadata": {},
   "outputs": [
    {
     "name": "stdout",
     "output_type": "stream",
     "text": [
      "(5+2j) <class 'complex'>\n"
     ]
    }
   ],
   "source": [
    "a=5\n",
    "b=2\n",
    "\n",
    "c=complex(a,b)\n",
    "print(c,type(c))"
   ]
  },
  {
   "cell_type": "code",
   "execution_count": 14,
   "id": "d21cd32f",
   "metadata": {},
   "outputs": [
    {
     "name": "stdout",
     "output_type": "stream",
     "text": [
      "(2.5-0.5j) <class 'complex'>\n"
     ]
    }
   ],
   "source": [
    "a=2.5\n",
    "b=-.5\n",
    "\n",
    "c=complex(a,b)\n",
    "print(c,type(c))"
   ]
  },
  {
   "cell_type": "code",
   "execution_count": 15,
   "id": "fe027bb6",
   "metadata": {},
   "outputs": [
    {
     "name": "stdout",
     "output_type": "stream",
     "text": [
      "(5+0j) <class 'complex'>\n"
     ]
    }
   ],
   "source": [
    "a=5\n",
    "c=complex(a)\n",
    "print(c,type(c))"
   ]
  },
  {
   "cell_type": "markdown",
   "id": "dab48427",
   "metadata": {},
   "source": [
    "# Str()"
   ]
  },
  {
   "cell_type": "markdown",
   "id": "a3fe6943",
   "metadata": {},
   "source": [
    "- It typecasts to string.\n",
    "- It returns a string value."
   ]
  },
  {
   "cell_type": "code",
   "execution_count": 17,
   "id": "66ac8b6f",
   "metadata": {},
   "outputs": [
    {
     "name": "stdout",
     "output_type": "stream",
     "text": [
      "5 <class 'int'>\n",
      "5 <class 'str'>\n"
     ]
    }
   ],
   "source": [
    "a=5\n",
    "print(a,type(a))\n",
    "\n",
    "s=str(a)\n",
    "print(s,type(s))"
   ]
  },
  {
   "cell_type": "code",
   "execution_count": 18,
   "id": "586117ad",
   "metadata": {},
   "outputs": [
    {
     "name": "stdout",
     "output_type": "stream",
     "text": [
      "5.5 <class 'float'>\n",
      "5.5 <class 'str'>\n"
     ]
    }
   ],
   "source": [
    "a=5.5\n",
    "print(a,type(a))\n",
    "\n",
    "s=str(a)\n",
    "print(s,type(s))"
   ]
  },
  {
   "cell_type": "code",
   "execution_count": 19,
   "id": "d67a4220",
   "metadata": {},
   "outputs": [
    {
     "name": "stdout",
     "output_type": "stream",
     "text": [
      "(3+2j) <class 'complex'>\n",
      "(3+2j) <class 'str'>\n"
     ]
    }
   ],
   "source": [
    "a= 3+ 2j\n",
    "print(a,type(a))\n",
    "\n",
    "s=str(a)\n",
    "print(s,type(s))"
   ]
  },
  {
   "cell_type": "markdown",
   "id": "26dd4464",
   "metadata": {},
   "source": [
    "# List()"
   ]
  },
  {
   "cell_type": "markdown",
   "id": "cd1a4a92",
   "metadata": {},
   "source": [
    "- It typecasts to list.\n",
    "- It returns a list."
   ]
  },
  {
   "cell_type": "code",
   "execution_count": 23,
   "id": "9feb66e6",
   "metadata": {},
   "outputs": [
    {
     "name": "stdout",
     "output_type": "stream",
     "text": [
      "Python <class 'str'>\n",
      "['P', 'y', 't', 'h', 'o', 'n'] <class 'list'>\n"
     ]
    }
   ],
   "source": [
    "my_str = 'Python'\n",
    "print(my_str,type(my_str))\n",
    "\n",
    "b = list(my_str)\n",
    "print(b,type(b))"
   ]
  },
  {
   "cell_type": "code",
   "execution_count": 24,
   "id": "23ecb895",
   "metadata": {},
   "outputs": [
    {
     "name": "stdout",
     "output_type": "stream",
     "text": [
      "(1, 2, 3, 4, 5, 6) <class 'tuple'>\n",
      "[1, 2, 3, 4, 5, 6] <class 'list'>\n"
     ]
    }
   ],
   "source": [
    "a = (1,2,3,4,5,6)\n",
    "print(a,type(a))\n",
    "\n",
    "b = list(a)\n",
    "print(b,type(b))"
   ]
  },
  {
   "cell_type": "code",
   "execution_count": 25,
   "id": "4319c620",
   "metadata": {},
   "outputs": [
    {
     "name": "stdout",
     "output_type": "stream",
     "text": [
      "(10, True, 'Laernbay', (10+20j), [1, 2, 3], {4, 5, 6}, {1: 100, 2: 500}) <class 'tuple'>\n",
      "[10, True, 'Laernbay', (10+20j), [1, 2, 3], {4, 5, 6}, {1: 100, 2: 500}] <class 'list'>\n"
     ]
    }
   ],
   "source": [
    "t=(10, True, 'Laernbay', 10+20j, [1,2,3], {4,5,6}, {1:100,2:500})\n",
    "print(t,type(t))\n",
    "\n",
    "lst = list(t)\n",
    "print(lst,type(lst))"
   ]
  },
  {
   "cell_type": "markdown",
   "id": "414d569c",
   "metadata": {},
   "source": [
    "# Tuple()"
   ]
  },
  {
   "cell_type": "markdown",
   "id": "df02df26",
   "metadata": {},
   "source": [
    "- It typecasts to tuple.\n",
    "- It returns a tuple."
   ]
  },
  {
   "cell_type": "code",
   "execution_count": 26,
   "id": "d7ac50b9",
   "metadata": {},
   "outputs": [
    {
     "name": "stdout",
     "output_type": "stream",
     "text": [
      "Python class <class 'str'>\n",
      "12\n",
      "('P', 'y', 't', 'h', 'o', 'n', ' ', 'c', 'l', 'a', 's', 's') <class 'tuple'>\n",
      "12\n"
     ]
    }
   ],
   "source": [
    "my_str='Python class'\n",
    "print(my_str,type(my_str))\n",
    "\n",
    "print(len(my_str))\n",
    "\n",
    "t=tuple(my_str)\n",
    "print(t,type(t))\n",
    "print(len(t))"
   ]
  },
  {
   "cell_type": "code",
   "execution_count": 27,
   "id": "597cde70",
   "metadata": {},
   "outputs": [
    {
     "name": "stdout",
     "output_type": "stream",
     "text": [
      "[True, False, None, 20, 5.5, (10+20j), 'Python'] <class 'list'>\n",
      "(True, False, None, 20, 5.5, (10+20j), 'Python') <class 'tuple'>\n"
     ]
    }
   ],
   "source": [
    "lst=[True, False, None, 20, 5.5, 10+20j, 'Python']\n",
    "print(lst,type(lst))\n",
    "\n",
    "t=tuple(lst)\n",
    "print(t,type(t))"
   ]
  },
  {
   "cell_type": "code",
   "execution_count": 28,
   "id": "a625341c",
   "metadata": {},
   "outputs": [
    {
     "name": "stdout",
     "output_type": "stream",
     "text": [
      "{'name': 'Soubhagya', 'ID': 101, 'City': 'Bangalore', 'Company': 'TCS'} <class 'dict'>\n",
      "('name', 'ID', 'City', 'Company') <class 'tuple'>\n",
      "('Soubhagya', 101, 'Bangalore', 'TCS') <class 'tuple'>\n"
     ]
    }
   ],
   "source": [
    "d={'name':'Soubhagya','ID':101,'City':'Bangalore','Company':'TCS'}\n",
    "print(d,type(d))\n",
    "\n",
    "t=tuple(d)\n",
    "print(t,type(t))\n",
    "\n",
    "t=tuple(d.values())\n",
    "print(t,type(t))"
   ]
  },
  {
   "cell_type": "markdown",
   "id": "38e12c4a",
   "metadata": {},
   "source": [
    "# Dict()"
   ]
  },
  {
   "cell_type": "markdown",
   "id": "9bf74be7",
   "metadata": {},
   "source": [
    "- It typecasts to a dictionary\n",
    "- It returns a dictionary"
   ]
  },
  {
   "cell_type": "markdown",
   "id": "4ff48059",
   "metadata": {},
   "source": [
    "- The iterable that we pass to the dict() again should have an iterable inside it.\n",
    "- The inner iterable should have two elements. The first element becomes the key and the second element becomes the value in the dictionary."
   ]
  },
  {
   "cell_type": "code",
   "execution_count": 30,
   "id": "a45578b5",
   "metadata": {},
   "outputs": [
    {
     "data": {
      "text/plain": [
       "{1: 100}"
      ]
     },
     "execution_count": 30,
     "metadata": {},
     "output_type": "execute_result"
    }
   ],
   "source": [
    "dict([[1,100]])"
   ]
  },
  {
   "cell_type": "code",
   "execution_count": 31,
   "id": "424bba96",
   "metadata": {},
   "outputs": [
    {
     "data": {
      "text/plain": [
       "{1: 100}"
      ]
     },
     "execution_count": 31,
     "metadata": {},
     "output_type": "execute_result"
    }
   ],
   "source": [
    "dict([(1,100)])"
   ]
  },
  {
   "cell_type": "code",
   "execution_count": 32,
   "id": "e9aaa086",
   "metadata": {},
   "outputs": [
    {
     "data": {
      "text/plain": [
       "{1: 100, 2: 200}"
      ]
     },
     "execution_count": 32,
     "metadata": {},
     "output_type": "execute_result"
    }
   ],
   "source": [
    "dict(([1,100],[2,200]))"
   ]
  },
  {
   "cell_type": "code",
   "execution_count": 33,
   "id": "4be0f676",
   "metadata": {},
   "outputs": [
    {
     "data": {
      "text/plain": [
       "{'Ashish': 'name', 'DS': 'course'}"
      ]
     },
     "execution_count": 33,
     "metadata": {},
     "output_type": "execute_result"
    }
   ],
   "source": [
    "dict([{'name','Ashish'},{'course','DS'}])"
   ]
  },
  {
   "cell_type": "code",
   "execution_count": 34,
   "id": "2f63049a",
   "metadata": {},
   "outputs": [
    {
     "name": "stdout",
     "output_type": "stream",
     "text": [
      "{1, 2, 4, (1, 2, 3), 30, 'Python'} <class 'set'>\n"
     ]
    }
   ],
   "source": [
    "s={1,4,2,30,(1,2,3),'Python'}\n",
    "print(s,type(s))"
   ]
  },
  {
   "cell_type": "markdown",
   "id": "efe33d52",
   "metadata": {},
   "source": [
    "# Set()"
   ]
  },
  {
   "cell_type": "markdown",
   "id": "279f0cdf",
   "metadata": {},
   "source": [
    "- A set can contain only the hashable items.\n",
    "- Almost all immutable types are hashable types.\n",
    "- Hashable types- String, Tuple, Frozenset\n",
    "- Unhashable types- List, Dictionary, Set"
   ]
  },
  {
   "cell_type": "code",
   "execution_count": 36,
   "id": "dece99a8",
   "metadata": {},
   "outputs": [],
   "source": [
    "# The object that has hash value is a hashable item"
   ]
  },
  {
   "cell_type": "code",
   "execution_count": null,
   "id": "9e9db103",
   "metadata": {},
   "outputs": [],
   "source": []
  },
  {
   "cell_type": "code",
   "execution_count": null,
   "id": "97fdde11",
   "metadata": {},
   "outputs": [],
   "source": []
  },
  {
   "cell_type": "code",
   "execution_count": null,
   "id": "ca81f540",
   "metadata": {},
   "outputs": [],
   "source": []
  },
  {
   "cell_type": "code",
   "execution_count": null,
   "id": "7d910feb",
   "metadata": {},
   "outputs": [],
   "source": []
  },
  {
   "cell_type": "code",
   "execution_count": null,
   "id": "a6fa1186",
   "metadata": {},
   "outputs": [],
   "source": []
  }
 ],
 "metadata": {
  "kernelspec": {
   "display_name": "Python 3 (ipykernel)",
   "language": "python",
   "name": "python3"
  },
  "language_info": {
   "codemirror_mode": {
    "name": "ipython",
    "version": 3
   },
   "file_extension": ".py",
   "mimetype": "text/x-python",
   "name": "python",
   "nbconvert_exporter": "python",
   "pygments_lexer": "ipython3",
   "version": "3.9.12"
  }
 },
 "nbformat": 4,
 "nbformat_minor": 5
}
