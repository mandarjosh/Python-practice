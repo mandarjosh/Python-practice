{
 "cells": [
  {
   "cell_type": "markdown",
   "id": "6c52854e",
   "metadata": {},
   "source": [
    "# What is an operating system?"
   ]
  },
  {
   "cell_type": "markdown",
   "id": "ea5d73a3",
   "metadata": {},
   "source": [
    "It is the interface (medium) between the user and the hardware.\n",
    "It is an example of system software.\n",
    "It is the resource manager that provides resources to other applications and softawares.\n",
    "Resources- Memory, CPU, Input/Output, Network devises etc.\n",
    "Examples- Windows, macOS, Linux, Unix, DOS, Ubuntu etc."
   ]
  },
  {
   "cell_type": "markdown",
   "id": "fa95791b",
   "metadata": {},
   "source": [
    "# What is a programming (computer) language?"
   ]
  },
  {
   "cell_type": "markdown",
   "id": "bbb0060a",
   "metadata": {},
   "source": [
    "The language that we use to communicate with a computer system is a computer language.\n",
    "The language that we use to give instructions to a computer system is a computer language."
   ]
  },
  {
   "cell_type": "markdown",
   "id": "2cfdb701",
   "metadata": {},
   "source": [
    "# Types of computer language"
   ]
  },
  {
   "cell_type": "markdown",
   "id": "498f0caa",
   "metadata": {},
   "source": [
    "1- High leve language\n",
    "2- Low level language"
   ]
  },
  {
   "cell_type": "markdown",
   "id": "1d723111",
   "metadata": {},
   "source": [
    "# 1- High level language"
   ]
  },
  {
   "cell_type": "markdown",
   "id": "916dea4b",
   "metadata": {},
   "source": [
    "- It is a user friendly language.\n",
    "- It is easy to read, learn and understand.\n",
    "- The code in a high level language is written in simple language like English.\n",
    "- **Example-** Python, Java, C, C++, PHP, R, Ruby etc."
   ]
  },
  {
   "cell_type": "markdown",
   "id": "70c999b4",
   "metadata": {},
   "source": [
    "# 2- Low level language"
   ]
  },
  {
   "cell_type": "markdown",
   "id": "e6f65fb6",
   "metadata": {},
   "source": [
    "- It is a machine friendly language.\n",
    "- The code is written in Binary digits (0,1)\n",
    "- For a user it is not easy to learn and understand.\n",
    "- Machine language is a low level language.\n",
    "- 0 and 1 is nothing but the signals."
   ]
  },
  {
   "cell_type": "markdown",
   "id": "22e70ee0",
   "metadata": {},
   "source": [
    "# Translator"
   ]
  },
  {
   "cell_type": "markdown",
   "id": "a09a176a",
   "metadata": {},
   "source": [
    "It is a software that converts the high level language code into machine code and vice versa."
   ]
  },
  {
   "cell_type": "markdown",
   "id": "ce532491",
   "metadata": {},
   "source": [
    "# Types of translators"
   ]
  },
  {
   "cell_type": "markdown",
   "id": "d7ad2250",
   "metadata": {},
   "source": [
    "- 1- Compiler\n",
    "- 2- Interpreter"
   ]
  },
  {
   "cell_type": "markdown",
   "id": "970b8c67",
   "metadata": {},
   "source": [
    "# Compiler"
   ]
  },
  {
   "cell_type": "markdown",
   "id": "a9371933",
   "metadata": {},
   "source": [
    "- It reads the whole source code first and then it converts it into machine code at once."
   ]
  },
  {
   "cell_type": "markdown",
   "id": "8af28647",
   "metadata": {},
   "source": [
    "# Interpreter"
   ]
  },
  {
   "cell_type": "markdown",
   "id": "a5a6f011",
   "metadata": {},
   "source": [
    "- It reads the source code line by line and converts it into machine code.\n",
    "- It reads one line at a time."
   ]
  },
  {
   "cell_type": "markdown",
   "id": "ad172e82",
   "metadata": {},
   "source": [
    "# What is Python?"
   ]
  },
  {
   "cell_type": "raw",
   "id": "d6f16743",
   "metadata": {},
   "source": [
    "Python is a popular programming language. It was created by Guido van Rossum, and released in 1991.\n",
    "\n",
    "It is used for:\n",
    "web development (server-side),\n",
    "software development,\n",
    "mathematics,\n",
    "system scripting."
   ]
  },
  {
   "cell_type": "markdown",
   "id": "b83bf5b8",
   "metadata": {},
   "source": [
    "# What can Python do?"
   ]
  },
  {
   "cell_type": "raw",
   "id": "1756ee33",
   "metadata": {},
   "source": [
    "# Python can be used on a server to create web applications.\n",
    "# Python can be used alongside software to create workflows.\n",
    "# Python can connect to database systems. It can also read and modify files.\n",
    "# Python can be used to handle big data and perform complex mathematics.\n",
    "# Python can be used for rapid prototyping, or for production-ready software development."
   ]
  },
  {
   "cell_type": "code",
   "execution_count": null,
   "id": "3a5c5688",
   "metadata": {},
   "outputs": [],
   "source": []
  },
  {
   "cell_type": "markdown",
   "id": "1692e654",
   "metadata": {},
   "source": [
    "# Comments in Python"
   ]
  },
  {
   "cell_type": "code",
   "execution_count": 6,
   "id": "40c3fcb9",
   "metadata": {},
   "outputs": [
    {
     "name": "stdout",
     "output_type": "stream",
     "text": [
      "Hello\n",
      "30\n",
      "Thank you!\n"
     ]
    }
   ],
   "source": [
    "# This is a dummy program\n",
    "\n",
    "print('Hello')\n",
    "a=10\n",
    "b=20\n",
    "c=a+b\n",
    "print(c)\n",
    "# d=a-b\n",
    "# print(d)\n",
    "# e=a*b\n",
    "# print(e)\n",
    "print('Thank you!')"
   ]
  },
  {
   "cell_type": "code",
   "execution_count": 7,
   "id": "bfdd934a",
   "metadata": {},
   "outputs": [],
   "source": [
    "# To comment- ctrl+/"
   ]
  },
  {
   "cell_type": "markdown",
   "id": "70944f98",
   "metadata": {},
   "source": [
    "# Data Types"
   ]
  },
  {
   "cell_type": "code",
   "execution_count": 8,
   "id": "fe0c2d41",
   "metadata": {},
   "outputs": [],
   "source": [
    "# It is the type identifier of a value."
   ]
  },
  {
   "cell_type": "code",
   "execution_count": 9,
   "id": "1b7269c4",
   "metadata": {},
   "outputs": [],
   "source": [
    "# Basic datatypes\n",
    "# Derived datatypes"
   ]
  },
  {
   "cell_type": "code",
   "execution_count": 10,
   "id": "3f9f8421",
   "metadata": {},
   "outputs": [],
   "source": [
    "# type()- It returns the type of a value."
   ]
  },
  {
   "cell_type": "markdown",
   "id": "71601256",
   "metadata": {},
   "source": [
    "# Basic dataypes"
   ]
  },
  {
   "cell_type": "markdown",
   "id": "b04629cf",
   "metadata": {},
   "source": [
    "# integer (int)"
   ]
  },
  {
   "cell_type": "code",
   "execution_count": 12,
   "id": "11786c13",
   "metadata": {},
   "outputs": [],
   "source": [
    "# Any number whether it is +ive, -ive or 0 without a decimal point  is an integer (int)"
   ]
  },
  {
   "cell_type": "code",
   "execution_count": 13,
   "id": "7e88e1f6",
   "metadata": {},
   "outputs": [
    {
     "name": "stdout",
     "output_type": "stream",
     "text": [
      "10\n",
      "<class 'int'>\n",
      "10 <class 'int'>\n",
      "-5 <class 'int'>\n",
      "0 <class 'int'>\n"
     ]
    }
   ],
   "source": [
    "a=10\n",
    "print(a)\n",
    "print(type(a))\n",
    "print(a,type(a))\n",
    "\n",
    "a=-5\n",
    "print(a,type(a))\n",
    "\n",
    "a=0\n",
    "print(a,type(a))"
   ]
  },
  {
   "cell_type": "markdown",
   "id": "440bd117",
   "metadata": {},
   "source": [
    "# float"
   ]
  },
  {
   "cell_type": "code",
   "execution_count": 14,
   "id": "959060e1",
   "metadata": {},
   "outputs": [],
   "source": [
    "# - Any number whether +ive, -ive or 0 with a decimal point is a float value."
   ]
  },
  {
   "cell_type": "code",
   "execution_count": 15,
   "id": "f7b055e1",
   "metadata": {},
   "outputs": [
    {
     "name": "stdout",
     "output_type": "stream",
     "text": [
      "5.5 <class 'float'>\n",
      "-2.6 <class 'float'>\n",
      "0.0 <class 'float'>\n"
     ]
    }
   ],
   "source": [
    "a=5.5\n",
    "print(a,type(a))\n",
    "\n",
    "a=-2.6\n",
    "print(a,type(a))\n",
    "\n",
    "a=0.0\n",
    "print(a,type(a))"
   ]
  },
  {
   "cell_type": "markdown",
   "id": "c466d755",
   "metadata": {},
   "source": [
    "# complex"
   ]
  },
  {
   "cell_type": "code",
   "execution_count": 16,
   "id": "66258e3a",
   "metadata": {},
   "outputs": [],
   "source": [
    "# Any value in the form of a+bj is a complex value.\n",
    "# Where a is a real number and b is an imaginary number."
   ]
  },
  {
   "cell_type": "code",
   "execution_count": 17,
   "id": "a3e16a63",
   "metadata": {},
   "outputs": [
    {
     "name": "stdout",
     "output_type": "stream",
     "text": [
      "(5+3j) <class 'complex'>\n",
      "(5+3j) <class 'complex'>\n",
      "(5+3j) <class 'complex'>\n",
      "(5+3j) <class 'complex'>\n"
     ]
    }
   ],
   "source": [
    "a=5+3j\n",
    "print(a,type(a))\n",
    "\n",
    "b=-2+3j\n",
    "print(a,type(b))\n",
    "\n",
    "c=-5-5j\n",
    "print(a,type(c))\n",
    "\n",
    "d=2j\n",
    "print(a,type(d))"
   ]
  },
  {
   "cell_type": "code",
   "execution_count": 18,
   "id": "8e2ea9a4",
   "metadata": {},
   "outputs": [
    {
     "name": "stdout",
     "output_type": "stream",
     "text": [
      "(10+15j) <class 'complex'>\n",
      "10.0\n",
      "15.0\n"
     ]
    }
   ],
   "source": [
    "a=10+15j\n",
    "print(a,type(a))\n",
    "\n",
    "print(a.real)\n",
    "print(a.imag)"
   ]
  },
  {
   "cell_type": "markdown",
   "id": "b9fb5c58",
   "metadata": {},
   "source": [
    "# String (str)"
   ]
  },
  {
   "cell_type": "code",
   "execution_count": 19,
   "id": "493d526e",
   "metadata": {},
   "outputs": [],
   "source": [
    "# Anything inside ' ', \"  \",''' ''',\"\"\" \"\"\" is a string value."
   ]
  },
  {
   "cell_type": "code",
   "execution_count": 20,
   "id": "82d89c2b",
   "metadata": {},
   "outputs": [
    {
     "name": "stdout",
     "output_type": "stream",
     "text": [
      "10 <class 'str'>\n",
      "5.5 <class 'str'>\n"
     ]
    }
   ],
   "source": [
    "a='10'\n",
    "print(a,type(a))\n",
    "\n",
    "a='5.5'\n",
    "print(a,type(a))"
   ]
  },
  {
   "cell_type": "code",
   "execution_count": 21,
   "id": "81357819",
   "metadata": {},
   "outputs": [
    {
     "name": "stdout",
     "output_type": "stream",
     "text": [
      "Python\n",
      "Python\n"
     ]
    }
   ],
   "source": [
    "a='Python'\n",
    "b=\"Python\"\n",
    "\n",
    "print(a)\n",
    "print(b)"
   ]
  },
  {
   "cell_type": "code",
   "execution_count": 22,
   "id": "ba4af79d",
   "metadata": {},
   "outputs": [
    {
     "name": "stdout",
     "output_type": "stream",
     "text": [
      "Python's libraries\n"
     ]
    }
   ],
   "source": [
    "# Output- Python's libraries\n",
    "\n",
    "a=\"Python's libraries\"\n",
    "print(a)"
   ]
  },
  {
   "cell_type": "code",
   "execution_count": 23,
   "id": "160bd96e",
   "metadata": {},
   "outputs": [
    {
     "name": "stdout",
     "output_type": "stream",
     "text": [
      "We are learning \"Data Science\"\n"
     ]
    }
   ],
   "source": [
    "# Output- We are learning \"Data Science\"\n",
    "\n",
    "a='We are learning \"Data Science\"'\n",
    "print(a)"
   ]
  },
  {
   "cell_type": "code",
   "execution_count": 24,
   "id": "d809376f",
   "metadata": {},
   "outputs": [
    {
     "name": "stdout",
     "output_type": "stream",
     "text": [
      "Hello fellas!\n",
      "We are learning Python.\n",
      "\"All the best.\"\n"
     ]
    }
   ],
   "source": [
    "a='''Hello fellas!\n",
    "We are learning Python.\n",
    "\"All the best.\"'''\n",
    "print(a)"
   ]
  },
  {
   "cell_type": "markdown",
   "id": "edef19ca",
   "metadata": {},
   "source": [
    "# Boolean (bool)"
   ]
  },
  {
   "cell_type": "markdown",
   "id": "9e906286",
   "metadata": {},
   "source": [
    "# True and False are the boolean values"
   ]
  },
  {
   "cell_type": "code",
   "execution_count": 25,
   "id": "169d4a9c",
   "metadata": {},
   "outputs": [
    {
     "name": "stdout",
     "output_type": "stream",
     "text": [
      "True <class 'bool'>\n",
      "False <class 'bool'>\n"
     ]
    }
   ],
   "source": [
    "a=True\n",
    "print(a,type(a))\n",
    "\n",
    "a=False\n",
    "print(a,type(a))"
   ]
  },
  {
   "cell_type": "markdown",
   "id": "c810ac77",
   "metadata": {},
   "source": [
    "# NoneType"
   ]
  },
  {
   "cell_type": "code",
   "execution_count": 27,
   "id": "b6c9cda0",
   "metadata": {},
   "outputs": [],
   "source": [
    "# None- It is a Nonetype and it is used to represent null values or missing values in Python"
   ]
  },
  {
   "cell_type": "code",
   "execution_count": 28,
   "id": "8657cf33",
   "metadata": {},
   "outputs": [
    {
     "name": "stdout",
     "output_type": "stream",
     "text": [
      "None <class 'NoneType'>\n"
     ]
    }
   ],
   "source": [
    "a=None\n",
    "print(a,type(a))"
   ]
  },
  {
   "cell_type": "code",
   "execution_count": 29,
   "id": "71d9418c",
   "metadata": {},
   "outputs": [],
   "source": [
    "name='Savitha'\n",
    "code=None\n",
    "salaray=95000"
   ]
  },
  {
   "cell_type": "code",
   "execution_count": null,
   "id": "47a5cdf6",
   "metadata": {},
   "outputs": [],
   "source": []
  }
 ],
 "metadata": {
  "kernelspec": {
   "display_name": "Python 3 (ipykernel)",
   "language": "python",
   "name": "python3"
  },
  "language_info": {
   "codemirror_mode": {
    "name": "ipython",
    "version": 3
   },
   "file_extension": ".py",
   "mimetype": "text/x-python",
   "name": "python",
   "nbconvert_exporter": "python",
   "pygments_lexer": "ipython3",
   "version": "3.9.12"
  }
 },
 "nbformat": 4,
 "nbformat_minor": 5
}
