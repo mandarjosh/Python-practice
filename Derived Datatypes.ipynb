{
 "cells": [
  {
   "cell_type": "markdown",
   "id": "f2303de8",
   "metadata": {},
   "source": [
    "These are the datastructures that are used to store multiple values at a time."
   ]
  },
  {
   "cell_type": "markdown",
   "id": "f40ebefe",
   "metadata": {},
   "source": [
    "# List\n",
    "- Any values inside [] is a list.\n",
    "- A list is a cintainer type that can contain multiple values at a time.\n",
    "- It can store heterogenous values."
   ]
  },
  {
   "cell_type": "code",
   "execution_count": 1,
   "id": "6dd54a86",
   "metadata": {},
   "outputs": [
    {
     "name": "stdout",
     "output_type": "stream",
     "text": [
      "[10, 20, 30, 40]\n",
      "<class 'list'>\n"
     ]
    }
   ],
   "source": [
    "a = [10,20,30,40]\n",
    "print(a)\n",
    "print(type(a))"
   ]
  },
  {
   "cell_type": "code",
   "execution_count": 2,
   "id": "68451352",
   "metadata": {},
   "outputs": [
    {
     "name": "stdout",
     "output_type": "stream",
     "text": [
      "['sunil', 'anil', 'manoj', 'ramesh']\n",
      "<class 'list'>\n"
     ]
    }
   ],
   "source": [
    "a = ['sunil','anil','manoj','ramesh']\n",
    "print(a)\n",
    "print(type(a))"
   ]
  },
  {
   "cell_type": "markdown",
   "id": "bfaddaab",
   "metadata": {},
   "source": [
    "# Tuple\n",
    "- Any values inside the () is a tuple.\n",
    "- A tuple is a container type that can contain multiple elements.\n",
    "- A tuple can hold heterogenous elements."
   ]
  },
  {
   "cell_type": "code",
   "execution_count": 3,
   "id": "b913aa35",
   "metadata": {},
   "outputs": [
    {
     "name": "stdout",
     "output_type": "stream",
     "text": [
      "(10, 20, 30, 40)\n",
      "<class 'tuple'>\n"
     ]
    }
   ],
   "source": [
    "a = (10,20,30,40)\n",
    "print(a)\n",
    "print(type(a))"
   ]
  },
  {
   "cell_type": "code",
   "execution_count": 4,
   "id": "5315c790",
   "metadata": {},
   "outputs": [
    {
     "name": "stdout",
     "output_type": "stream",
     "text": [
      "('sunil', 'anil', 'manoj', 'ramesh')\n",
      "<class 'tuple'>\n"
     ]
    }
   ],
   "source": [
    "a = ('sunil','anil','manoj','ramesh')\n",
    "print(a)\n",
    "print(type(a))"
   ]
  },
  {
   "cell_type": "markdown",
   "id": "c9e77fe7",
   "metadata": {},
   "source": [
    "# Dictionary (dict)\n",
    "- When we have key:value pairs inside the {} then it is a dictionary.\n",
    "- In a dictionary the values are mapped to keys."
   ]
  },
  {
   "cell_type": "code",
   "execution_count": 5,
   "id": "84e90597",
   "metadata": {},
   "outputs": [
    {
     "name": "stdout",
     "output_type": "stream",
     "text": [
      "{1: 100, 2: 200} <class 'dict'>\n"
     ]
    }
   ],
   "source": [
    "d={1:100,2:200}\n",
    "print(d,type(d))"
   ]
  },
  {
   "cell_type": "code",
   "execution_count": 6,
   "id": "f63fcb15",
   "metadata": {},
   "outputs": [
    {
     "name": "stdout",
     "output_type": "stream",
     "text": [
      "{'Name': 'Vishal', 'City': 'Pune', 'Id': '101'}\n"
     ]
    }
   ],
   "source": [
    "emp = {'Name':'Vishal','City':'Pune','Id':'101'}\n",
    "print(emp)"
   ]
  },
  {
   "cell_type": "code",
   "execution_count": 8,
   "id": "675bd7d7",
   "metadata": {},
   "outputs": [
    {
     "name": "stdout",
     "output_type": "stream",
     "text": [
      "dict_values(['Vishal', 'Pune', '101'])\n"
     ]
    }
   ],
   "source": [
    "print(emp.values())"
   ]
  },
  {
   "cell_type": "code",
   "execution_count": 9,
   "id": "027672d7",
   "metadata": {},
   "outputs": [
    {
     "name": "stdout",
     "output_type": "stream",
     "text": [
      "dict_keys(['Name', 'City', 'Id'])\n"
     ]
    }
   ],
   "source": [
    "print(emp.keys())"
   ]
  },
  {
   "cell_type": "code",
   "execution_count": 12,
   "id": "82a4d8d7",
   "metadata": {},
   "outputs": [
    {
     "data": {
      "text/plain": [
       "{'Name': ' Mandar', 'City': 'Pune', 'Id': '101', 'name': ' Mandar'}"
      ]
     },
     "execution_count": 12,
     "metadata": {},
     "output_type": "execute_result"
    }
   ],
   "source": [
    "emp['Name'] =\" Mandar\"\n",
    "emp"
   ]
  },
  {
   "cell_type": "markdown",
   "id": "bf9cad0b",
   "metadata": {},
   "source": [
    "# Set\n",
    "- When we have values inside the {} then it is a set.\n",
    "- Set is a container that can contain multiple values.\n",
    "- Set does not allow the duplicate values.\n",
    "- Set is not a sequence type.\n",
    "- It does not support indexing."
   ]
  },
  {
   "cell_type": "code",
   "execution_count": 15,
   "id": "3c704428",
   "metadata": {},
   "outputs": [
    {
     "name": "stdout",
     "output_type": "stream",
     "text": [
      "{1, 2, 3, 4}\n"
     ]
    }
   ],
   "source": [
    "b =1,2,3,4\n",
    "print(set(b))"
   ]
  },
  {
   "cell_type": "code",
   "execution_count": 16,
   "id": "bc472f91",
   "metadata": {},
   "outputs": [
    {
     "name": "stdout",
     "output_type": "stream",
     "text": [
      "{1, 2, 3, 4}\n",
      "<class 'set'>\n"
     ]
    }
   ],
   "source": [
    "a = {1,2,3,4}\n",
    "print(a)\n",
    "print(type(a))"
   ]
  },
  {
   "cell_type": "code",
   "execution_count": 18,
   "id": "8a325b94",
   "metadata": {},
   "outputs": [
    {
     "name": "stdout",
     "output_type": "stream",
     "text": [
      "{0, 1, 3, 5, 6, 8, 'True', 'Python'}\n",
      "<class 'set'>\n"
     ]
    }
   ],
   "source": [
    "a = {1,5,6,8,3,0,\"True\",\"Python\"}\n",
    "print(a)\n",
    "print(type(a))"
   ]
  },
  {
   "cell_type": "code",
   "execution_count": 20,
   "id": "3a0d76a7",
   "metadata": {},
   "outputs": [
    {
     "name": "stdout",
     "output_type": "stream",
     "text": [
      "{False, True, 5.5, (10+20j), 10, (1, 2, 3), 'Python'} <class 'set'>\n"
     ]
    }
   ],
   "source": [
    "s={True,'Python', 10, 5.5, 10+20j, (1,2,3),False,'Python'}\n",
    "print(s,type(s))"
   ]
  },
  {
   "cell_type": "markdown",
   "id": "5815a4d5",
   "metadata": {},
   "source": [
    "# Frozenset\n",
    "- When we pass an iterable inside the frozenset() then it is a frozenset.\n",
    "- Frozenset also does not allow the duplicate values.\n",
    "- Frozenset is a no sequence type."
   ]
  },
  {
   "cell_type": "code",
   "execution_count": 22,
   "id": "c23a285d",
   "metadata": {},
   "outputs": [
    {
     "name": "stdout",
     "output_type": "stream",
     "text": [
      "{1, 2, 3, 4}\n",
      "<class 'set'>\n"
     ]
    }
   ],
   "source": [
    "f =({1,2,3,4})\n",
    "print(f)\n",
    "print(type(f))"
   ]
  },
  {
   "cell_type": "code",
   "execution_count": 23,
   "id": "9d400bd5",
   "metadata": {},
   "outputs": [
    {
     "name": "stdout",
     "output_type": "stream",
     "text": [
      "frozenset({1, 3, 5, 6, 7}) <class 'frozenset'>\n"
     ]
    }
   ],
   "source": [
    "lst = [1,5,7,6,3]\n",
    "f = frozenset(lst)\n",
    "print(f,type(f))"
   ]
  },
  {
   "cell_type": "code",
   "execution_count": 24,
   "id": "3b2613f4",
   "metadata": {},
   "outputs": [
    {
     "name": "stdout",
     "output_type": "stream",
     "text": [
      "frozenset({1, 3, 5, 6, 7}) <class 'frozenset'>\n"
     ]
    }
   ],
   "source": [
    "lst = [1,5,7,6,3,3]\n",
    "f = frozenset(lst)\n",
    "print(f,type(f))"
   ]
  },
  {
   "cell_type": "markdown",
   "id": "e5c2b1e3",
   "metadata": {},
   "source": [
    "# Range \n",
    "- range() is used to create a sequence of integer numbers.\n",
    "- range() returns a range object."
   ]
  },
  {
   "cell_type": "code",
   "execution_count": 25,
   "id": "45cd10ca",
   "metadata": {},
   "outputs": [],
   "source": [
    "# Syntax- range(start,stop,step)\n",
    "# Stop value is excluded\n",
    "# Strep is 1 by default"
   ]
  },
  {
   "cell_type": "code",
   "execution_count": 27,
   "id": "272070cb",
   "metadata": {},
   "outputs": [
    {
     "name": "stdout",
     "output_type": "stream",
     "text": [
      "range(1, 11) <class 'range'>\n",
      "[1, 2, 3, 4, 5, 6, 7, 8, 9, 10]\n"
     ]
    }
   ],
   "source": [
    "# Create a sequence of the natural numbers from 1 to 10 -> [1,2,3,4,5,6,7,8,9,10]\n",
    "r = range(1,11,1)\n",
    "print(r,type(r))\n",
    "print(list(r))"
   ]
  },
  {
   "cell_type": "code",
   "execution_count": 28,
   "id": "1e7b7986",
   "metadata": {},
   "outputs": [
    {
     "name": "stdout",
     "output_type": "stream",
     "text": [
      "[1, 3, 5, 7, 9]\n"
     ]
    }
   ],
   "source": [
    "r = range(1,11,2)\n",
    "print(list(r))"
   ]
  },
  {
   "cell_type": "code",
   "execution_count": null,
   "id": "b44880e7",
   "metadata": {},
   "outputs": [],
   "source": []
  }
 ],
 "metadata": {
  "kernelspec": {
   "display_name": "Python 3 (ipykernel)",
   "language": "python",
   "name": "python3"
  },
  "language_info": {
   "codemirror_mode": {
    "name": "ipython",
    "version": 3
   },
   "file_extension": ".py",
   "mimetype": "text/x-python",
   "name": "python",
   "nbconvert_exporter": "python",
   "pygments_lexer": "ipython3",
   "version": "3.9.12"
  }
 },
 "nbformat": 4,
 "nbformat_minor": 5
}
